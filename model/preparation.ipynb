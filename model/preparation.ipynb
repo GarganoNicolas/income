{
 "cells": [
  {
   "cell_type": "code",
   "execution_count": 2,
   "metadata": {},
   "outputs": [],
   "source": [
    "import pandas as pd\n",
    "data5 = pd.read_csv('eph_tr.csv', sep=';')"
   ]
  },
  {
   "cell_type": "code",
   "execution_count": 3,
   "metadata": {},
   "outputs": [],
   "source": [
    "from funpymodeling import profiling_num, freq_tbl, status"
   ]
  },
  {
   "cell_type": "code",
   "execution_count": 4,
   "metadata": {},
   "outputs": [
    {
     "data": {
      "text/html": [
       "<div>\n",
       "<style scoped>\n",
       "    .dataframe tbody tr th:only-of-type {\n",
       "        vertical-align: middle;\n",
       "    }\n",
       "\n",
       "    .dataframe tbody tr th {\n",
       "        vertical-align: top;\n",
       "    }\n",
       "\n",
       "    .dataframe thead th {\n",
       "        text-align: right;\n",
       "    }\n",
       "</style>\n",
       "<table border=\"1\" class=\"dataframe\">\n",
       "  <thead>\n",
       "    <tr style=\"text-align: right;\">\n",
       "      <th></th>\n",
       "      <th>variable</th>\n",
       "      <th>q_nan</th>\n",
       "      <th>p_nan</th>\n",
       "      <th>q_zeros</th>\n",
       "      <th>p_zeros</th>\n",
       "      <th>unique</th>\n",
       "      <th>type</th>\n",
       "    </tr>\n",
       "  </thead>\n",
       "  <tbody>\n",
       "    <tr>\n",
       "      <th>0</th>\n",
       "      <td>edad</td>\n",
       "      <td>0</td>\n",
       "      <td>0.0</td>\n",
       "      <td>0</td>\n",
       "      <td>0.0</td>\n",
       "      <td>69</td>\n",
       "      <td>int64</td>\n",
       "    </tr>\n",
       "    <tr>\n",
       "      <th>1</th>\n",
       "      <td>sexo</td>\n",
       "      <td>0</td>\n",
       "      <td>0.0</td>\n",
       "      <td>0</td>\n",
       "      <td>0.0</td>\n",
       "      <td>2</td>\n",
       "      <td>object</td>\n",
       "    </tr>\n",
       "    <tr>\n",
       "      <th>2</th>\n",
       "      <td>alfabeto</td>\n",
       "      <td>0</td>\n",
       "      <td>0.0</td>\n",
       "      <td>0</td>\n",
       "      <td>0.0</td>\n",
       "      <td>2</td>\n",
       "      <td>object</td>\n",
       "    </tr>\n",
       "    <tr>\n",
       "      <th>3</th>\n",
       "      <td>sistema_salud</td>\n",
       "      <td>0</td>\n",
       "      <td>0.0</td>\n",
       "      <td>0</td>\n",
       "      <td>0.0</td>\n",
       "      <td>7</td>\n",
       "      <td>object</td>\n",
       "    </tr>\n",
       "    <tr>\n",
       "      <th>4</th>\n",
       "      <td>nivel_educativo</td>\n",
       "      <td>0</td>\n",
       "      <td>0.0</td>\n",
       "      <td>0</td>\n",
       "      <td>0.0</td>\n",
       "      <td>7</td>\n",
       "      <td>object</td>\n",
       "    </tr>\n",
       "    <tr>\n",
       "      <th>5</th>\n",
       "      <td>ocupacion_jerarquia</td>\n",
       "      <td>0</td>\n",
       "      <td>0.0</td>\n",
       "      <td>0</td>\n",
       "      <td>0.0</td>\n",
       "      <td>4</td>\n",
       "      <td>object</td>\n",
       "    </tr>\n",
       "    <tr>\n",
       "      <th>6</th>\n",
       "      <td>estado_civil</td>\n",
       "      <td>0</td>\n",
       "      <td>0.0</td>\n",
       "      <td>0</td>\n",
       "      <td>0.0</td>\n",
       "      <td>5</td>\n",
       "      <td>int64</td>\n",
       "    </tr>\n",
       "    <tr>\n",
       "      <th>7</th>\n",
       "      <td>ingreso</td>\n",
       "      <td>0</td>\n",
       "      <td>0.0</td>\n",
       "      <td>0</td>\n",
       "      <td>0.0</td>\n",
       "      <td>111</td>\n",
       "      <td>int64</td>\n",
       "    </tr>\n",
       "  </tbody>\n",
       "</table>\n",
       "</div>"
      ],
      "text/plain": [
       "              variable  q_nan  p_nan  q_zeros  p_zeros  unique    type\n",
       "0                 edad      0    0.0        0      0.0      69   int64\n",
       "1                 sexo      0    0.0        0      0.0       2  object\n",
       "2             alfabeto      0    0.0        0      0.0       2  object\n",
       "3        sistema_salud      0    0.0        0      0.0       7  object\n",
       "4      nivel_educativo      0    0.0        0      0.0       7  object\n",
       "5  ocupacion_jerarquia      0    0.0        0      0.0       4  object\n",
       "6         estado_civil      0    0.0        0      0.0       5   int64\n",
       "7              ingreso      0    0.0        0      0.0     111   int64"
      ]
     },
     "execution_count": 4,
     "metadata": {},
     "output_type": "execute_result"
    }
   ],
   "source": [
    "status(data5)"
   ]
  },
  {
   "cell_type": "code",
   "execution_count": 5,
   "metadata": {},
   "outputs": [
    {
     "data": {
      "text/plain": [
       "(2461, 8)"
      ]
     },
     "execution_count": 5,
     "metadata": {},
     "output_type": "execute_result"
    }
   ],
   "source": [
    "data5.shape"
   ]
  },
  {
   "cell_type": "markdown",
   "metadata": {},
   "source": [
    "# 2. Ver columnas que son object"
   ]
  },
  {
   "cell_type": "code",
   "execution_count": 6,
   "metadata": {},
   "outputs": [
    {
     "name": "stdout",
     "output_type": "stream",
     "text": [
      "Valores únicos en la columna sexo: \n",
      " ['hombre' 'mujer'] \n",
      "\n",
      "Valores únicos en la columna alfabeto: \n",
      " ['Si' 'No'] \n",
      "\n",
      "Valores únicos en la columna sistema_salud: \n",
      " ['No paga ni le descuentan' 'Obra social (incluye PAMI)'\n",
      " 'Obra social y mutual/prepaga/servicio de emergencia.'\n",
      " 'Mutual / Prepaga / Servicio de emergencia' 'Planes y seguros públicos'\n",
      " 'Ns./Nr.'\n",
      " 'Mutual/prepaga/servicio de emergencia/ Planes y Seguros Públicos'] \n",
      "\n",
      "Valores únicos en la columna nivel_educativo: \n",
      " ['Superior Universitaria Completa' 'Primaria Completa'\n",
      " 'Secundaria Incompleta' 'Secundaria Completa'\n",
      " 'Primaria Incompleta(incluye educación especial)'\n",
      " 'Superior Universitaria Incompleta' 'Sin instrucción'] \n",
      "\n",
      "Valores únicos en la columna ocupacion_jerarquia: \n",
      " ['Cuenta propia' 'Director' 'otro' 'Trabajador asalariado'] \n",
      "\n",
      "Valores únicos en la columna estado_civil: \n",
      " [1 4 3 5 2] \n",
      "\n"
     ]
    }
   ],
   "source": [
    "max_unique_value = data5.select_dtypes(include=['object']).nunique().max()\n",
    "for columna in data5.columns:\n",
    "    valores_unicos = data5[columna].unique()\n",
    "    if len(valores_unicos) <= max_unique_value:\n",
    "        print(f\"Valores únicos en la columna {columna}: \\n {valores_unicos} \\n\")"
   ]
  },
  {
   "cell_type": "markdown",
   "metadata": {},
   "source": [
    "### 2.1 Prepare estado_civil for data input"
   ]
  },
  {
   "cell_type": "code",
   "execution_count": 7,
   "metadata": {},
   "outputs": [],
   "source": [
    "data4=data5.copy()"
   ]
  },
  {
   "cell_type": "markdown",
   "metadata": {},
   "source": [
    "#### The original Data has been trasnformed by Pablo Casas in the contexto of the DataScience bootcamp of EdVai, so I need to search the original values"
   ]
  },
  {
   "cell_type": "code",
   "execution_count": 8,
   "metadata": {},
   "outputs": [
    {
     "data": {
      "text/plain": [
       "(14319, 31)"
      ]
     },
     "execution_count": 8,
     "metadata": {},
     "output_type": "execute_result"
    }
   ],
   "source": [
    "data_original = pd.read_csv('encuesta-anual-hogares-2019.csv', sep = ',')\n",
    "data_original.shape"
   ]
  },
  {
   "cell_type": "code",
   "execution_count": 9,
   "metadata": {},
   "outputs": [
    {
     "data": {
      "text/plain": [
       "Index(['id', 'nhogar', 'miembro', 'comuna', 'dominio', 'edad', 'sexo',\n",
       "       'parentesco_jefe', 'situacion_conyugal', 'num_miembro_padre',\n",
       "       'num_miembro_madre', 'estado_ocupacional', 'cat_ocupacional',\n",
       "       'calidad_ingresos_lab', 'ingreso_total_lab', 'calidad_ingresos_no_lab',\n",
       "       'ingreso_total_no_lab', 'calidad_ingresos_totales', 'ingresos_totales',\n",
       "       'calidad_ingresos_familiares', 'ingresos_familiares',\n",
       "       'ingreso_per_capita_familiar', 'estado_educativo', 'sector_educativo',\n",
       "       'nivel_actual', 'nivel_max_educativo', 'años_escolaridad',\n",
       "       'lugar_nacimiento', 'afiliacion_salud', 'hijos_nacidos_vivos',\n",
       "       'cantidad_hijos_nac_vivos'],\n",
       "      dtype='object')"
      ]
     },
     "execution_count": 9,
     "metadata": {},
     "output_type": "execute_result"
    }
   ],
   "source": [
    "data_original.columns"
   ]
  },
  {
   "cell_type": "code",
   "execution_count": 10,
   "metadata": {},
   "outputs": [
    {
     "data": {
      "text/plain": [
       "situacion_conyugal\n",
       "Soltero/a                           3542\n",
       "Casado/a                            3511\n",
       "Unido/a                             2467\n",
       "No corresponde                      2375\n",
       "Separado/a de unión o matrimonio    1110\n",
       "Viudo/a                              797\n",
       "Divorciado/a                         516\n",
       "Name: count, dtype: int64"
      ]
     },
     "execution_count": 10,
     "metadata": {},
     "output_type": "execute_result"
    }
   ],
   "source": [
    "data_original['situacion_conyugal'].value_counts()"
   ]
  },
  {
   "cell_type": "code",
   "execution_count": 11,
   "metadata": {},
   "outputs": [
    {
     "data": {
      "text/plain": [
       "estado_civil\n",
       "1    799\n",
       "4    711\n",
       "3    597\n",
       "2    285\n",
       "5     69\n",
       "Name: count, dtype: int64"
      ]
     },
     "execution_count": 11,
     "metadata": {},
     "output_type": "execute_result"
    }
   ],
   "source": [
    "data4['estado_civil'].value_counts()"
   ]
  },
  {
   "cell_type": "code",
   "execution_count": 12,
   "metadata": {},
   "outputs": [
    {
     "name": "stdout",
     "output_type": "stream",
     "text": [
      "(14319, 31)\n",
      "(2461, 8)\n"
     ]
    }
   ],
   "source": [
    "#Too much diference between the data shape\n",
    "print(data_original.shape)\n",
    "print(data4.shape)"
   ]
  },
  {
   "cell_type": "code",
   "execution_count": 13,
   "metadata": {},
   "outputs": [
    {
     "data": {
      "text/html": [
       "<div>\n",
       "<style scoped>\n",
       "    .dataframe tbody tr th:only-of-type {\n",
       "        vertical-align: middle;\n",
       "    }\n",
       "\n",
       "    .dataframe tbody tr th {\n",
       "        vertical-align: top;\n",
       "    }\n",
       "\n",
       "    .dataframe thead th {\n",
       "        text-align: right;\n",
       "    }\n",
       "</style>\n",
       "<table border=\"1\" class=\"dataframe\">\n",
       "  <thead>\n",
       "    <tr style=\"text-align: right;\">\n",
       "      <th></th>\n",
       "      <th>variable</th>\n",
       "      <th>q_nan</th>\n",
       "      <th>p_nan</th>\n",
       "      <th>q_zeros</th>\n",
       "      <th>p_zeros</th>\n",
       "      <th>unique</th>\n",
       "      <th>type</th>\n",
       "    </tr>\n",
       "  </thead>\n",
       "  <tbody>\n",
       "    <tr>\n",
       "      <th>0</th>\n",
       "      <td>id</td>\n",
       "      <td>0</td>\n",
       "      <td>0.000000</td>\n",
       "      <td>0</td>\n",
       "      <td>0.000000</td>\n",
       "      <td>5795</td>\n",
       "      <td>int64</td>\n",
       "    </tr>\n",
       "    <tr>\n",
       "      <th>1</th>\n",
       "      <td>nhogar</td>\n",
       "      <td>0</td>\n",
       "      <td>0.000000</td>\n",
       "      <td>0</td>\n",
       "      <td>0.000000</td>\n",
       "      <td>7</td>\n",
       "      <td>int64</td>\n",
       "    </tr>\n",
       "    <tr>\n",
       "      <th>2</th>\n",
       "      <td>miembro</td>\n",
       "      <td>0</td>\n",
       "      <td>0.000000</td>\n",
       "      <td>0</td>\n",
       "      <td>0.000000</td>\n",
       "      <td>19</td>\n",
       "      <td>int64</td>\n",
       "    </tr>\n",
       "    <tr>\n",
       "      <th>3</th>\n",
       "      <td>comuna</td>\n",
       "      <td>0</td>\n",
       "      <td>0.000000</td>\n",
       "      <td>0</td>\n",
       "      <td>0.000000</td>\n",
       "      <td>15</td>\n",
       "      <td>int64</td>\n",
       "    </tr>\n",
       "    <tr>\n",
       "      <th>4</th>\n",
       "      <td>dominio</td>\n",
       "      <td>0</td>\n",
       "      <td>0.000000</td>\n",
       "      <td>0</td>\n",
       "      <td>0.000000</td>\n",
       "      <td>2</td>\n",
       "      <td>object</td>\n",
       "    </tr>\n",
       "    <tr>\n",
       "      <th>5</th>\n",
       "      <td>edad</td>\n",
       "      <td>0</td>\n",
       "      <td>0.000000</td>\n",
       "      <td>128</td>\n",
       "      <td>0.008939</td>\n",
       "      <td>101</td>\n",
       "      <td>int64</td>\n",
       "    </tr>\n",
       "    <tr>\n",
       "      <th>6</th>\n",
       "      <td>sexo</td>\n",
       "      <td>0</td>\n",
       "      <td>0.000000</td>\n",
       "      <td>0</td>\n",
       "      <td>0.000000</td>\n",
       "      <td>2</td>\n",
       "      <td>object</td>\n",
       "    </tr>\n",
       "    <tr>\n",
       "      <th>7</th>\n",
       "      <td>parentesco_jefe</td>\n",
       "      <td>0</td>\n",
       "      <td>0.000000</td>\n",
       "      <td>0</td>\n",
       "      <td>0.000000</td>\n",
       "      <td>9</td>\n",
       "      <td>object</td>\n",
       "    </tr>\n",
       "    <tr>\n",
       "      <th>8</th>\n",
       "      <td>situacion_conyugal</td>\n",
       "      <td>1</td>\n",
       "      <td>0.000070</td>\n",
       "      <td>0</td>\n",
       "      <td>0.000000</td>\n",
       "      <td>7</td>\n",
       "      <td>object</td>\n",
       "    </tr>\n",
       "    <tr>\n",
       "      <th>9</th>\n",
       "      <td>num_miembro_padre</td>\n",
       "      <td>0</td>\n",
       "      <td>0.000000</td>\n",
       "      <td>0</td>\n",
       "      <td>0.000000</td>\n",
       "      <td>9</td>\n",
       "      <td>object</td>\n",
       "    </tr>\n",
       "    <tr>\n",
       "      <th>10</th>\n",
       "      <td>num_miembro_madre</td>\n",
       "      <td>0</td>\n",
       "      <td>0.000000</td>\n",
       "      <td>0</td>\n",
       "      <td>0.000000</td>\n",
       "      <td>11</td>\n",
       "      <td>object</td>\n",
       "    </tr>\n",
       "    <tr>\n",
       "      <th>11</th>\n",
       "      <td>estado_ocupacional</td>\n",
       "      <td>0</td>\n",
       "      <td>0.000000</td>\n",
       "      <td>0</td>\n",
       "      <td>0.000000</td>\n",
       "      <td>3</td>\n",
       "      <td>object</td>\n",
       "    </tr>\n",
       "    <tr>\n",
       "      <th>12</th>\n",
       "      <td>cat_ocupacional</td>\n",
       "      <td>0</td>\n",
       "      <td>0.000000</td>\n",
       "      <td>0</td>\n",
       "      <td>0.000000</td>\n",
       "      <td>5</td>\n",
       "      <td>object</td>\n",
       "    </tr>\n",
       "    <tr>\n",
       "      <th>13</th>\n",
       "      <td>calidad_ingresos_lab</td>\n",
       "      <td>0</td>\n",
       "      <td>0.000000</td>\n",
       "      <td>0</td>\n",
       "      <td>0.000000</td>\n",
       "      <td>4</td>\n",
       "      <td>object</td>\n",
       "    </tr>\n",
       "    <tr>\n",
       "      <th>14</th>\n",
       "      <td>ingreso_total_lab</td>\n",
       "      <td>0</td>\n",
       "      <td>0.000000</td>\n",
       "      <td>6963</td>\n",
       "      <td>0.486277</td>\n",
       "      <td>440</td>\n",
       "      <td>int64</td>\n",
       "    </tr>\n",
       "    <tr>\n",
       "      <th>15</th>\n",
       "      <td>calidad_ingresos_no_lab</td>\n",
       "      <td>0</td>\n",
       "      <td>0.000000</td>\n",
       "      <td>0</td>\n",
       "      <td>0.000000</td>\n",
       "      <td>4</td>\n",
       "      <td>object</td>\n",
       "    </tr>\n",
       "    <tr>\n",
       "      <th>16</th>\n",
       "      <td>ingreso_total_no_lab</td>\n",
       "      <td>0</td>\n",
       "      <td>0.000000</td>\n",
       "      <td>10247</td>\n",
       "      <td>0.715623</td>\n",
       "      <td>375</td>\n",
       "      <td>int64</td>\n",
       "    </tr>\n",
       "    <tr>\n",
       "      <th>17</th>\n",
       "      <td>calidad_ingresos_totales</td>\n",
       "      <td>0</td>\n",
       "      <td>0.000000</td>\n",
       "      <td>0</td>\n",
       "      <td>0.000000</td>\n",
       "      <td>4</td>\n",
       "      <td>object</td>\n",
       "    </tr>\n",
       "    <tr>\n",
       "      <th>18</th>\n",
       "      <td>ingresos_totales</td>\n",
       "      <td>0</td>\n",
       "      <td>0.000000</td>\n",
       "      <td>4295</td>\n",
       "      <td>0.299951</td>\n",
       "      <td>678</td>\n",
       "      <td>int64</td>\n",
       "    </tr>\n",
       "    <tr>\n",
       "      <th>19</th>\n",
       "      <td>calidad_ingresos_familiares</td>\n",
       "      <td>0</td>\n",
       "      <td>0.000000</td>\n",
       "      <td>0</td>\n",
       "      <td>0.000000</td>\n",
       "      <td>3</td>\n",
       "      <td>object</td>\n",
       "    </tr>\n",
       "    <tr>\n",
       "      <th>20</th>\n",
       "      <td>ingresos_familiares</td>\n",
       "      <td>0</td>\n",
       "      <td>0.000000</td>\n",
       "      <td>76</td>\n",
       "      <td>0.005308</td>\n",
       "      <td>960</td>\n",
       "      <td>int64</td>\n",
       "    </tr>\n",
       "    <tr>\n",
       "      <th>21</th>\n",
       "      <td>ingreso_per_capita_familiar</td>\n",
       "      <td>0</td>\n",
       "      <td>0.000000</td>\n",
       "      <td>76</td>\n",
       "      <td>0.005308</td>\n",
       "      <td>1257</td>\n",
       "      <td>int64</td>\n",
       "    </tr>\n",
       "    <tr>\n",
       "      <th>22</th>\n",
       "      <td>estado_educativo</td>\n",
       "      <td>0</td>\n",
       "      <td>0.000000</td>\n",
       "      <td>0</td>\n",
       "      <td>0.000000</td>\n",
       "      <td>3</td>\n",
       "      <td>object</td>\n",
       "    </tr>\n",
       "    <tr>\n",
       "      <th>23</th>\n",
       "      <td>sector_educativo</td>\n",
       "      <td>3</td>\n",
       "      <td>0.000210</td>\n",
       "      <td>0</td>\n",
       "      <td>0.000000</td>\n",
       "      <td>4</td>\n",
       "      <td>object</td>\n",
       "    </tr>\n",
       "    <tr>\n",
       "      <th>24</th>\n",
       "      <td>nivel_actual</td>\n",
       "      <td>0</td>\n",
       "      <td>0.000000</td>\n",
       "      <td>0</td>\n",
       "      <td>0.000000</td>\n",
       "      <td>14</td>\n",
       "      <td>object</td>\n",
       "    </tr>\n",
       "    <tr>\n",
       "      <th>25</th>\n",
       "      <td>nivel_max_educativo</td>\n",
       "      <td>1054</td>\n",
       "      <td>0.073608</td>\n",
       "      <td>0</td>\n",
       "      <td>0.000000</td>\n",
       "      <td>7</td>\n",
       "      <td>object</td>\n",
       "    </tr>\n",
       "    <tr>\n",
       "      <th>26</th>\n",
       "      <td>años_escolaridad</td>\n",
       "      <td>62</td>\n",
       "      <td>0.004330</td>\n",
       "      <td>0</td>\n",
       "      <td>0.000000</td>\n",
       "      <td>20</td>\n",
       "      <td>object</td>\n",
       "    </tr>\n",
       "    <tr>\n",
       "      <th>27</th>\n",
       "      <td>lugar_nacimiento</td>\n",
       "      <td>1</td>\n",
       "      <td>0.000070</td>\n",
       "      <td>0</td>\n",
       "      <td>0.000000</td>\n",
       "      <td>7</td>\n",
       "      <td>object</td>\n",
       "    </tr>\n",
       "    <tr>\n",
       "      <th>28</th>\n",
       "      <td>afiliacion_salud</td>\n",
       "      <td>4</td>\n",
       "      <td>0.000279</td>\n",
       "      <td>0</td>\n",
       "      <td>0.000000</td>\n",
       "      <td>5</td>\n",
       "      <td>object</td>\n",
       "    </tr>\n",
       "    <tr>\n",
       "      <th>29</th>\n",
       "      <td>hijos_nacidos_vivos</td>\n",
       "      <td>7784</td>\n",
       "      <td>0.543613</td>\n",
       "      <td>0</td>\n",
       "      <td>0.000000</td>\n",
       "      <td>2</td>\n",
       "      <td>object</td>\n",
       "    </tr>\n",
       "    <tr>\n",
       "      <th>30</th>\n",
       "      <td>cantidad_hijos_nac_vivos</td>\n",
       "      <td>0</td>\n",
       "      <td>0.000000</td>\n",
       "      <td>0</td>\n",
       "      <td>0.000000</td>\n",
       "      <td>14</td>\n",
       "      <td>object</td>\n",
       "    </tr>\n",
       "  </tbody>\n",
       "</table>\n",
       "</div>"
      ],
      "text/plain": [
       "                       variable  q_nan     p_nan  q_zeros   p_zeros  unique  \\\n",
       "0                            id      0  0.000000        0  0.000000    5795   \n",
       "1                        nhogar      0  0.000000        0  0.000000       7   \n",
       "2                       miembro      0  0.000000        0  0.000000      19   \n",
       "3                        comuna      0  0.000000        0  0.000000      15   \n",
       "4                       dominio      0  0.000000        0  0.000000       2   \n",
       "5                          edad      0  0.000000      128  0.008939     101   \n",
       "6                          sexo      0  0.000000        0  0.000000       2   \n",
       "7               parentesco_jefe      0  0.000000        0  0.000000       9   \n",
       "8            situacion_conyugal      1  0.000070        0  0.000000       7   \n",
       "9             num_miembro_padre      0  0.000000        0  0.000000       9   \n",
       "10            num_miembro_madre      0  0.000000        0  0.000000      11   \n",
       "11           estado_ocupacional      0  0.000000        0  0.000000       3   \n",
       "12              cat_ocupacional      0  0.000000        0  0.000000       5   \n",
       "13         calidad_ingresos_lab      0  0.000000        0  0.000000       4   \n",
       "14            ingreso_total_lab      0  0.000000     6963  0.486277     440   \n",
       "15      calidad_ingresos_no_lab      0  0.000000        0  0.000000       4   \n",
       "16         ingreso_total_no_lab      0  0.000000    10247  0.715623     375   \n",
       "17     calidad_ingresos_totales      0  0.000000        0  0.000000       4   \n",
       "18             ingresos_totales      0  0.000000     4295  0.299951     678   \n",
       "19  calidad_ingresos_familiares      0  0.000000        0  0.000000       3   \n",
       "20          ingresos_familiares      0  0.000000       76  0.005308     960   \n",
       "21  ingreso_per_capita_familiar      0  0.000000       76  0.005308    1257   \n",
       "22             estado_educativo      0  0.000000        0  0.000000       3   \n",
       "23             sector_educativo      3  0.000210        0  0.000000       4   \n",
       "24                 nivel_actual      0  0.000000        0  0.000000      14   \n",
       "25          nivel_max_educativo   1054  0.073608        0  0.000000       7   \n",
       "26             años_escolaridad     62  0.004330        0  0.000000      20   \n",
       "27             lugar_nacimiento      1  0.000070        0  0.000000       7   \n",
       "28             afiliacion_salud      4  0.000279        0  0.000000       5   \n",
       "29          hijos_nacidos_vivos   7784  0.543613        0  0.000000       2   \n",
       "30     cantidad_hijos_nac_vivos      0  0.000000        0  0.000000      14   \n",
       "\n",
       "      type  \n",
       "0    int64  \n",
       "1    int64  \n",
       "2    int64  \n",
       "3    int64  \n",
       "4   object  \n",
       "5    int64  \n",
       "6   object  \n",
       "7   object  \n",
       "8   object  \n",
       "9   object  \n",
       "10  object  \n",
       "11  object  \n",
       "12  object  \n",
       "13  object  \n",
       "14   int64  \n",
       "15  object  \n",
       "16   int64  \n",
       "17  object  \n",
       "18   int64  \n",
       "19  object  \n",
       "20   int64  \n",
       "21   int64  \n",
       "22  object  \n",
       "23  object  \n",
       "24  object  \n",
       "25  object  \n",
       "26  object  \n",
       "27  object  \n",
       "28  object  \n",
       "29  object  \n",
       "30  object  "
      ]
     },
     "execution_count": 13,
     "metadata": {},
     "output_type": "execute_result"
    }
   ],
   "source": [
    "status(data_original)"
   ]
  },
  {
   "cell_type": "code",
   "execution_count": 14,
   "metadata": {},
   "outputs": [
    {
     "name": "stdout",
     "output_type": "stream",
     "text": [
      "Valores únicos en la columna nhogar: \n",
      " [1 2 3 4 5 6 7] \n",
      "\n",
      "Valores únicos en la columna miembro: \n",
      " [ 1  2  3  4  5  6  7  8  9 10 11 12 13 14 15 16 17 18 19] \n",
      "\n",
      "Valores únicos en la columna comuna: \n",
      " [ 5  2 10 15  8 13 12  3  1  6  7 14 11  4  9] \n",
      "\n",
      "Valores únicos en la columna dominio: \n",
      " ['Resto de la Ciudad' 'Villas de emergencia'] \n",
      "\n",
      "Valores únicos en la columna sexo: \n",
      " ['Mujer' 'Varon'] \n",
      "\n",
      "Valores únicos en la columna parentesco_jefe: \n",
      " ['Jefe' 'Otro no familiar' 'Padre/Madre/Suegro/a' 'Otro familiar'\n",
      " 'Conyugue o pareja' 'Hijo/a - Hijastro/a' 'Nieto/a' 'Yerno/nuera'\n",
      " 'Servicio domestico y sus familiares'] \n",
      "\n",
      "Valores únicos en la columna situacion_conyugal: \n",
      " ['Soltero/a' 'Viudo/a' 'Unido/a' 'No corresponde'\n",
      " 'Separado/a de unión o matrimonio' 'Divorciado/a' 'Casado/a' nan] \n",
      "\n",
      "Valores únicos en la columna num_miembro_padre: \n",
      " ['Padre no vive en el hogar' 'No corresponde' '2' '1' '3' '4' '5' '7' '6'] \n",
      "\n",
      "Valores únicos en la columna num_miembro_madre: \n",
      " ['Madre no vive en el hogar' '2' 'No corresponde' '1' '3' '4' '5' '7' '6'\n",
      " '9' '15'] \n",
      "\n",
      "Valores únicos en la columna estado_ocupacional: \n",
      " ['Inactivo' 'Ocupado' 'Desocupado'] \n",
      "\n",
      "Valores únicos en la columna cat_ocupacional: \n",
      " ['No corresponde' 'Asalariado' 'Trabajador por cuenta propia'\n",
      " 'Patron/empleador' 'Trabajador familiar'] \n",
      "\n",
      "Valores únicos en la columna calidad_ingresos_lab: \n",
      " ['No tuvo ingresos' 'Tuvo ingresos y declara monto' 'No corresponde'\n",
      " 'Tuvo ingresos pero no declara monto'] \n",
      "\n",
      "Valores únicos en la columna calidad_ingresos_no_lab: \n",
      " ['Tuvo ingresos y declara monto' 'No tuvo ingresos'\n",
      " 'Tuvo ingresos pero no declara monto' 'No corresponde'] \n",
      "\n",
      "Valores únicos en la columna calidad_ingresos_totales: \n",
      " ['Tuvo ingresos y declara monto' 'No tuvo ingresos'\n",
      " 'Tuvo ingresos pero no declara monto' 'No corresponde'] \n",
      "\n",
      "Valores únicos en la columna calidad_ingresos_familiares: \n",
      " ['Tuvo ingresos y declara monto' 'Tuvo ingresos pero no declara monto'\n",
      " 'No tuvo ingresos'] \n",
      "\n",
      "Valores únicos en la columna estado_educativo: \n",
      " ['Asiste' 'No asiste pero asistió' 'Nunca asistio'] \n",
      "\n",
      "Valores únicos en la columna sector_educativo: \n",
      " ['Estatal/publico' 'Privado religioso' 'No corresponde'\n",
      " 'Privado no religioso' nan] \n",
      "\n",
      "Valores únicos en la columna nivel_actual: \n",
      " ['Universitario' 'No corresponde' 'Secundario/medio comun'\n",
      " 'Terciario/superior no universitario' 'Jardin maternal'\n",
      " 'Secundario/medio adultos' 'Sala de 4' 'Primario comun' 'Sala de 5'\n",
      " 'Postgrado' 'Sala de 3' 'Primario adultos' 'Primario especial'\n",
      " 'Otras escuelas especiales'] \n",
      "\n",
      "Valores únicos en la columna nivel_max_educativo: \n",
      " ['Otras escuelas especiales' 'Secundario/medio comun' 'EGB (1° a 9° año)'\n",
      " 'Primario especial' nan 'Primario comun' 'Sala de 5' 'No corresponde'] \n",
      "\n",
      "Valores únicos en la columna lugar_nacimiento: \n",
      " ['PBA excepto GBA' 'Otra provincia' 'CABA' 'Partido GBA'\n",
      " 'Pais no limitrofe' 'Pais limitrofe' nan 'PBA sin especificar'] \n",
      "\n",
      "Valores únicos en la columna afiliacion_salud: \n",
      " ['Solo obra social'\n",
      " 'Solo plan de medicina prepaga por contratación voluntaria'\n",
      " 'Solo prepaga o mutual via OS' 'Solo sistema publico' 'Otros' nan] \n",
      "\n",
      "Valores únicos en la columna hijos_nacidos_vivos: \n",
      " ['No' nan 'Si'] \n",
      "\n",
      "Valores únicos en la columna cantidad_hijos_nac_vivos: \n",
      " ['No corresponde' '2' '1' '3' '5' '7' '4' '6' '9' '8' '11' '12' '10' '15'] \n",
      "\n"
     ]
    }
   ],
   "source": [
    "max_unique_value_data_original = data_original.select_dtypes(include=['object']).nunique().max()\n",
    "for columna in data_original.columns:\n",
    "    valores_unicos = data_original[columna].unique()\n",
    "    if len(valores_unicos) <= max_unique_value_data_original:\n",
    "        print(f\"Valores únicos en la columna {columna}: \\n {valores_unicos} \\n\")"
   ]
  },
  {
   "cell_type": "markdown",
   "metadata": {},
   "source": [
    "##### Searching the filter of the data"
   ]
  },
  {
   "cell_type": "code",
   "execution_count": 15,
   "metadata": {},
   "outputs": [
    {
     "name": "stdout",
     "output_type": "stream",
     "text": [
      "10410\n"
     ]
    },
    {
     "data": {
      "text/plain": [
       "array([10410])"
      ]
     },
     "execution_count": 15,
     "metadata": {},
     "output_type": "execute_result"
    }
   ],
   "source": [
    "count_ingresos_familiares = data_original['calidad_ingresos_familiares'].value_counts()['Tuvo ingresos y declara monto']\n",
    "count_ingresos_familiares1 = count_ingresos_familiares[count_ingresos_familiares > 0]\n",
    "print(count_ingresos_familiares)\n",
    "count_ingresos_familiares1"
   ]
  },
  {
   "cell_type": "code",
   "execution_count": 16,
   "metadata": {},
   "outputs": [
    {
     "name": "stdout",
     "output_type": "stream",
     "text": [
      "8077\n"
     ]
    },
    {
     "data": {
      "text/plain": [
       "array([8077])"
      ]
     },
     "execution_count": 16,
     "metadata": {},
     "output_type": "execute_result"
    }
   ],
   "source": [
    "calidad_ingresos_totales = data_original['calidad_ingresos_totales'].value_counts()['Tuvo ingresos y declara monto']\n",
    "\n",
    "calidad_ingresos_totales1 = calidad_ingresos_totales[calidad_ingresos_totales > 0]\n",
    "print(calidad_ingresos_totales)\n",
    "calidad_ingresos_totales1"
   ]
  },
  {
   "cell_type": "code",
   "execution_count": 17,
   "metadata": {},
   "outputs": [
    {
     "name": "stdout",
     "output_type": "stream",
     "text": [
      "5855\n"
     ]
    },
    {
     "data": {
      "text/plain": [
       "array([5855])"
      ]
     },
     "execution_count": 17,
     "metadata": {},
     "output_type": "execute_result"
    }
   ],
   "source": [
    "calidad_ingresos_lab = data_original['calidad_ingresos_lab'].value_counts()['Tuvo ingresos y declara monto']\n",
    "calidad_ingresos_lab1 = calidad_ingresos_lab[calidad_ingresos_lab > 0]\n",
    "print(calidad_ingresos_lab)\n",
    "calidad_ingresos_lab1"
   ]
  },
  {
   "cell_type": "code",
   "execution_count": 18,
   "metadata": {},
   "outputs": [
    {
     "name": "stdout",
     "output_type": "stream",
     "text": [
      "5855\n"
     ]
    },
    {
     "data": {
      "text/plain": [
       "array([5855])"
      ]
     },
     "execution_count": 18,
     "metadata": {},
     "output_type": "execute_result"
    }
   ],
   "source": [
    "ingresos_totales = data_original['calidad_ingresos_lab'].value_counts()['Tuvo ingresos y declara monto']\n",
    "ingresos_totales1 = ingresos_totales[ingresos_totales > 0]\n",
    "print(ingresos_totales)\n",
    "ingresos_totales1"
   ]
  },
  {
   "cell_type": "code",
   "execution_count": 19,
   "metadata": {},
   "outputs": [
    {
     "name": "stdout",
     "output_type": "stream",
     "text": [
      "5855\n"
     ]
    },
    {
     "data": {
      "text/plain": [
       "array([5855])"
      ]
     },
     "execution_count": 19,
     "metadata": {},
     "output_type": "execute_result"
    }
   ],
   "source": [
    "ingreso_per_capita_familiar = data_original['calidad_ingresos_lab'].value_counts()['Tuvo ingresos y declara monto']\n",
    "ingreso_per_capita_familiar1 = ingreso_per_capita_familiar[ingreso_per_capita_familiar > 0]\n",
    "print(ingreso_per_capita_familiar)\n",
    "ingreso_per_capita_familiar1"
   ]
  },
  {
   "cell_type": "markdown",
   "metadata": {},
   "source": [
    "### I AM STUCKED\n",
    "##### I will make 2 models, my own preparation of the original data, and other with the eph killing the 'estado civil' column. Obviusly I will NOT work so eficient, but is only for practice, nobody will be kill for doing this ... or yes? 😱"
   ]
  },
  {
   "cell_type": "markdown",
   "metadata": {},
   "source": [
    "Finally Encuesta anual de hogares was made by Ciudad de Buenos Aires\n",
    "And Encuesta Permanente de Hogares was made by INDEC\n",
    "So the final conlcusion is .... ... .. .. .... ...\n",
    "\n",
    "#### ARE 2 DIFERENTES DATA FRAME !!!!!!\n",
    "#### WE HAVE BEEN LOSSING OUR PRECIUS TIME !!!!!!! OMG !"
   ]
  },
  {
   "cell_type": "code",
   "execution_count": 20,
   "metadata": {},
   "outputs": [
    {
     "data": {
      "text/plain": [
       "Index(['edad', 'sexo', 'alfabeto', 'sistema_salud', 'nivel_educativo',\n",
       "       'ocupacion_jerarquia', 'ingreso'],\n",
       "      dtype='object')"
      ]
     },
     "execution_count": 20,
     "metadata": {},
     "output_type": "execute_result"
    }
   ],
   "source": [
    "data4 = data4.drop('estado_civil', axis=1)\n",
    "# YES!  : )\n",
    "# KILL THEM !\n",
    "data4.columns"
   ]
  },
  {
   "cell_type": "markdown",
   "metadata": {},
   "source": [
    "# 3. OHE & Yes No columns"
   ]
  },
  {
   "cell_type": "code",
   "execution_count": 21,
   "metadata": {},
   "outputs": [
    {
     "name": "stdout",
     "output_type": "stream",
     "text": [
      "     sexo  frequency  percentage  cumulative_perc\n",
      "0  hombre       1579    0.641609         0.641609\n",
      "1   mujer        882    0.358391         1.000000\n",
      "\n",
      "----------------------------------------------------------------\n",
      "\n",
      "  alfabeto  frequency  percentage  cumulative_perc\n",
      "0       Si       2442     0.99228          0.99228\n",
      "1       No         19     0.00772          1.00000\n",
      "\n",
      "----------------------------------------------------------------\n",
      "\n",
      "                                       sistema_salud  frequency  percentage  \\\n",
      "0                           No paga ni le descuentan       1199    0.487200   \n",
      "1                         Obra social (incluye PAMI)       1021    0.414872   \n",
      "2          Mutual / Prepaga / Servicio de emergencia        160    0.065014   \n",
      "3  Obra social y mutual/prepaga/servicio de emerg...         47    0.019098   \n",
      "4                          Planes y seguros públicos         28    0.011377   \n",
      "5                                            Ns./Nr.          3    0.001219   \n",
      "6  Mutual/prepaga/servicio de emergencia/ Planes ...          3    0.001219   \n",
      "\n",
      "   cumulative_perc  \n",
      "0         0.487200  \n",
      "1         0.902072  \n",
      "2         0.967087  \n",
      "3         0.986184  \n",
      "4         0.997562  \n",
      "5         0.998781  \n",
      "6         1.000000  \n",
      "\n",
      "----------------------------------------------------------------\n",
      "\n",
      "                                   nivel_educativo  frequency  percentage  \\\n",
      "0                              Secundaria Completa        640    0.260057   \n",
      "1                                Primaria Completa        480    0.195043   \n",
      "2                            Secundaria Incompleta        454    0.184478   \n",
      "3                  Superior Universitaria Completa        423    0.171881   \n",
      "4                Superior Universitaria Incompleta        298    0.121089   \n",
      "5  Primaria Incompleta(incluye educación especial)        151    0.061357   \n",
      "6                                  Sin instrucción         15    0.006095   \n",
      "\n",
      "   cumulative_perc  \n",
      "0         0.260057  \n",
      "1         0.455100  \n",
      "2         0.639577  \n",
      "3         0.811459  \n",
      "4         0.932548  \n",
      "5         0.993905  \n",
      "6         1.000000  \n",
      "\n",
      "----------------------------------------------------------------\n",
      "\n",
      "     ocupacion_jerarquia  frequency  percentage  cumulative_perc\n",
      "0          Cuenta propia       2194    0.891508         0.891508\n",
      "1               Director        248    0.100772         0.992280\n",
      "2  Trabajador asalariado         12    0.004876         0.997156\n",
      "3                   otro          7    0.002844         1.000000\n",
      "\n",
      "----------------------------------------------------------------\n",
      "\n"
     ]
    }
   ],
   "source": [
    "data3=data4.copy()\n",
    "freq_tbl(data3)"
   ]
  },
  {
   "cell_type": "code",
   "execution_count": 22,
   "metadata": {},
   "outputs": [
    {
     "name": "stdout",
     "output_type": "stream",
     "text": [
      "Valores únicos en la columna sexo: \n",
      " ['hombre' 'mujer'] \n",
      "\n",
      "Valores únicos en la columna alfabeto: \n",
      " ['Si' 'No'] \n",
      "\n",
      "Valores únicos en la columna sistema_salud: \n",
      " ['No paga ni le descuentan' 'Obra social (incluye PAMI)'\n",
      " 'Obra social y mutual/prepaga/servicio de emergencia.'\n",
      " 'Mutual / Prepaga / Servicio de emergencia' 'Planes y seguros públicos'\n",
      " 'Ns./Nr.'\n",
      " 'Mutual/prepaga/servicio de emergencia/ Planes y Seguros Públicos'] \n",
      "\n",
      "Valores únicos en la columna nivel_educativo: \n",
      " ['Superior Universitaria Completa' 'Primaria Completa'\n",
      " 'Secundaria Incompleta' 'Secundaria Completa'\n",
      " 'Primaria Incompleta(incluye educación especial)'\n",
      " 'Superior Universitaria Incompleta' 'Sin instrucción'] \n",
      "\n",
      "Valores únicos en la columna ocupacion_jerarquia: \n",
      " ['Cuenta propia' 'Director' 'otro' 'Trabajador asalariado'] \n",
      "\n"
     ]
    }
   ],
   "source": [
    "max_unique_value = data3.select_dtypes(include=['object']).nunique().max()\n",
    "for columna in data3.columns:\n",
    "    valores_unicos = data3[columna].unique()\n",
    "    if len(valores_unicos) <= max_unique_value:\n",
    "        print(f\"Valores únicos en la columna {columna}: \\n {valores_unicos} \\n\")"
   ]
  },
  {
   "cell_type": "code",
   "execution_count": 23,
   "metadata": {},
   "outputs": [
    {
     "data": {
      "text/html": [
       "<div>\n",
       "<style scoped>\n",
       "    .dataframe tbody tr th:only-of-type {\n",
       "        vertical-align: middle;\n",
       "    }\n",
       "\n",
       "    .dataframe tbody tr th {\n",
       "        vertical-align: top;\n",
       "    }\n",
       "\n",
       "    .dataframe thead th {\n",
       "        text-align: right;\n",
       "    }\n",
       "</style>\n",
       "<table border=\"1\" class=\"dataframe\">\n",
       "  <thead>\n",
       "    <tr style=\"text-align: right;\">\n",
       "      <th></th>\n",
       "      <th>variable</th>\n",
       "      <th>q_nan</th>\n",
       "      <th>p_nan</th>\n",
       "      <th>q_zeros</th>\n",
       "      <th>p_zeros</th>\n",
       "      <th>unique</th>\n",
       "      <th>type</th>\n",
       "    </tr>\n",
       "  </thead>\n",
       "  <tbody>\n",
       "    <tr>\n",
       "      <th>0</th>\n",
       "      <td>edad</td>\n",
       "      <td>0</td>\n",
       "      <td>0.0</td>\n",
       "      <td>0</td>\n",
       "      <td>0.0</td>\n",
       "      <td>69</td>\n",
       "      <td>int64</td>\n",
       "    </tr>\n",
       "    <tr>\n",
       "      <th>1</th>\n",
       "      <td>sexo</td>\n",
       "      <td>0</td>\n",
       "      <td>0.0</td>\n",
       "      <td>0</td>\n",
       "      <td>0.0</td>\n",
       "      <td>2</td>\n",
       "      <td>object</td>\n",
       "    </tr>\n",
       "    <tr>\n",
       "      <th>2</th>\n",
       "      <td>alfabeto</td>\n",
       "      <td>0</td>\n",
       "      <td>0.0</td>\n",
       "      <td>0</td>\n",
       "      <td>0.0</td>\n",
       "      <td>2</td>\n",
       "      <td>object</td>\n",
       "    </tr>\n",
       "    <tr>\n",
       "      <th>3</th>\n",
       "      <td>sistema_salud</td>\n",
       "      <td>0</td>\n",
       "      <td>0.0</td>\n",
       "      <td>0</td>\n",
       "      <td>0.0</td>\n",
       "      <td>7</td>\n",
       "      <td>object</td>\n",
       "    </tr>\n",
       "    <tr>\n",
       "      <th>4</th>\n",
       "      <td>nivel_educativo</td>\n",
       "      <td>0</td>\n",
       "      <td>0.0</td>\n",
       "      <td>0</td>\n",
       "      <td>0.0</td>\n",
       "      <td>7</td>\n",
       "      <td>object</td>\n",
       "    </tr>\n",
       "    <tr>\n",
       "      <th>5</th>\n",
       "      <td>ocupacion_jerarquia</td>\n",
       "      <td>0</td>\n",
       "      <td>0.0</td>\n",
       "      <td>0</td>\n",
       "      <td>0.0</td>\n",
       "      <td>4</td>\n",
       "      <td>object</td>\n",
       "    </tr>\n",
       "    <tr>\n",
       "      <th>6</th>\n",
       "      <td>ingreso</td>\n",
       "      <td>0</td>\n",
       "      <td>0.0</td>\n",
       "      <td>0</td>\n",
       "      <td>0.0</td>\n",
       "      <td>111</td>\n",
       "      <td>int64</td>\n",
       "    </tr>\n",
       "  </tbody>\n",
       "</table>\n",
       "</div>"
      ],
      "text/plain": [
       "              variable  q_nan  p_nan  q_zeros  p_zeros  unique    type\n",
       "0                 edad      0    0.0        0      0.0      69   int64\n",
       "1                 sexo      0    0.0        0      0.0       2  object\n",
       "2             alfabeto      0    0.0        0      0.0       2  object\n",
       "3        sistema_salud      0    0.0        0      0.0       7  object\n",
       "4      nivel_educativo      0    0.0        0      0.0       7  object\n",
       "5  ocupacion_jerarquia      0    0.0        0      0.0       4  object\n",
       "6              ingreso      0    0.0        0      0.0     111   int64"
      ]
     },
     "execution_count": 23,
     "metadata": {},
     "output_type": "execute_result"
    }
   ],
   "source": [
    "status(data3)"
   ]
  },
  {
   "cell_type": "code",
   "execution_count": 24,
   "metadata": {},
   "outputs": [],
   "source": [
    "data2=data4.copy()\n",
    "data2['sexo']=data3['sexo'].replace({'hombre': 0, 'mujer': 1})\n",
    "data2['alfabeto']=data3['alfabeto'].replace({'Si': 0, 'No': 1})\n",
    "replacements = {\n",
    "    'No paga ni le descuentan': 1,\n",
    "    'Obra social (incluye PAMI)': 5,\n",
    "    'Obra social y mutual/prepaga/servicio de emergencia.': 6,\n",
    "    'Mutual / Prepaga / Servicio de emergencia': 3,\n",
    "    'Planes y seguros públicos': 2,\n",
    "    'Ns./Nr.': 0,\n",
    "    'Mutual/prepaga/servicio de emergencia/ Planes y Seguros Públicos': 4\n",
    "}\n",
    "\n",
    "# Replace the values in the column\n",
    "data2['sistema_salud'] = data3['sistema_salud'].replace(replacements)\n"
   ]
  },
  {
   "cell_type": "code",
   "execution_count": 25,
   "metadata": {},
   "outputs": [],
   "source": [
    "replacements1 = {\n",
    "    'Superior Universitaria Completa': 6,\n",
    "    'Primaria Completa': 2,\n",
    "    'Secundaria Incompleta': 3,\n",
    "    'Secundaria Completa': 4,\n",
    "    'Primaria Incompleta(incluye educación especial)': 1,\n",
    "    'Superior Universitaria Incompleta': 5,\n",
    "    'Sin instrucción': 0\n",
    "}\n",
    "\n",
    "# Replace the values in the column\n",
    "data2['nivel_educativo'] = data3['nivel_educativo'].replace(replacements1)"
   ]
  },
  {
   "cell_type": "code",
   "execution_count": 26,
   "metadata": {},
   "outputs": [],
   "source": [
    "replacements2 = {\n",
    "    'Cuenta propia': 2,\n",
    "    'Director': 3,\n",
    "    'otro': 0,\n",
    "    'Trabajador asalariado': 1\n",
    "}\n",
    "\n",
    "# Replace the values in the column\n",
    "data2['ocupacion_jerarquia'] = data3['ocupacion_jerarquia'].replace(replacements2)"
   ]
  },
  {
   "cell_type": "code",
   "execution_count": 27,
   "metadata": {},
   "outputs": [
    {
     "data": {
      "text/html": [
       "<div>\n",
       "<style scoped>\n",
       "    .dataframe tbody tr th:only-of-type {\n",
       "        vertical-align: middle;\n",
       "    }\n",
       "\n",
       "    .dataframe tbody tr th {\n",
       "        vertical-align: top;\n",
       "    }\n",
       "\n",
       "    .dataframe thead th {\n",
       "        text-align: right;\n",
       "    }\n",
       "</style>\n",
       "<table border=\"1\" class=\"dataframe\">\n",
       "  <thead>\n",
       "    <tr style=\"text-align: right;\">\n",
       "      <th></th>\n",
       "      <th>variable</th>\n",
       "      <th>q_nan</th>\n",
       "      <th>p_nan</th>\n",
       "      <th>q_zeros</th>\n",
       "      <th>p_zeros</th>\n",
       "      <th>unique</th>\n",
       "      <th>type</th>\n",
       "    </tr>\n",
       "  </thead>\n",
       "  <tbody>\n",
       "    <tr>\n",
       "      <th>0</th>\n",
       "      <td>edad</td>\n",
       "      <td>0</td>\n",
       "      <td>0.0</td>\n",
       "      <td>0</td>\n",
       "      <td>0.000000</td>\n",
       "      <td>69</td>\n",
       "      <td>int64</td>\n",
       "    </tr>\n",
       "    <tr>\n",
       "      <th>1</th>\n",
       "      <td>sexo</td>\n",
       "      <td>0</td>\n",
       "      <td>0.0</td>\n",
       "      <td>1579</td>\n",
       "      <td>0.641609</td>\n",
       "      <td>2</td>\n",
       "      <td>int64</td>\n",
       "    </tr>\n",
       "    <tr>\n",
       "      <th>2</th>\n",
       "      <td>alfabeto</td>\n",
       "      <td>0</td>\n",
       "      <td>0.0</td>\n",
       "      <td>2442</td>\n",
       "      <td>0.992280</td>\n",
       "      <td>2</td>\n",
       "      <td>int64</td>\n",
       "    </tr>\n",
       "    <tr>\n",
       "      <th>3</th>\n",
       "      <td>sistema_salud</td>\n",
       "      <td>0</td>\n",
       "      <td>0.0</td>\n",
       "      <td>3</td>\n",
       "      <td>0.001219</td>\n",
       "      <td>7</td>\n",
       "      <td>int64</td>\n",
       "    </tr>\n",
       "    <tr>\n",
       "      <th>4</th>\n",
       "      <td>nivel_educativo</td>\n",
       "      <td>0</td>\n",
       "      <td>0.0</td>\n",
       "      <td>15</td>\n",
       "      <td>0.006095</td>\n",
       "      <td>7</td>\n",
       "      <td>int64</td>\n",
       "    </tr>\n",
       "    <tr>\n",
       "      <th>5</th>\n",
       "      <td>ocupacion_jerarquia</td>\n",
       "      <td>0</td>\n",
       "      <td>0.0</td>\n",
       "      <td>7</td>\n",
       "      <td>0.002844</td>\n",
       "      <td>4</td>\n",
       "      <td>int64</td>\n",
       "    </tr>\n",
       "    <tr>\n",
       "      <th>6</th>\n",
       "      <td>ingreso</td>\n",
       "      <td>0</td>\n",
       "      <td>0.0</td>\n",
       "      <td>0</td>\n",
       "      <td>0.000000</td>\n",
       "      <td>111</td>\n",
       "      <td>int64</td>\n",
       "    </tr>\n",
       "  </tbody>\n",
       "</table>\n",
       "</div>"
      ],
      "text/plain": [
       "              variable  q_nan  p_nan  q_zeros   p_zeros  unique   type\n",
       "0                 edad      0    0.0        0  0.000000      69  int64\n",
       "1                 sexo      0    0.0     1579  0.641609       2  int64\n",
       "2             alfabeto      0    0.0     2442  0.992280       2  int64\n",
       "3        sistema_salud      0    0.0        3  0.001219       7  int64\n",
       "4      nivel_educativo      0    0.0       15  0.006095       7  int64\n",
       "5  ocupacion_jerarquia      0    0.0        7  0.002844       4  int64\n",
       "6              ingreso      0    0.0        0  0.000000     111  int64"
      ]
     },
     "execution_count": 27,
     "metadata": {},
     "output_type": "execute_result"
    }
   ],
   "source": [
    "status(data2)"
   ]
  },
  {
   "cell_type": "code",
   "execution_count": 28,
   "metadata": {},
   "outputs": [
    {
     "name": "stdout",
     "output_type": "stream",
     "text": [
      "Valores únicos en la columna sexo: [0 1]\n",
      "Valores únicos en la columna alfabeto: [0 1]\n",
      "Valores únicos en la columna sistema_salud: [1 5 6 3 2 0 4]\n",
      "Valores únicos en la columna nivel_educativo: [6 2 3 4 1 5 0]\n",
      "Valores únicos en la columna ocupacion_jerarquia: [2 3 0 1]\n"
     ]
    }
   ],
   "source": [
    "for columna in data2.columns:\n",
    "    valores_unicos = data2[columna].unique()\n",
    "    if len(valores_unicos) < 8:\n",
    "        print(f\"Valores únicos en la columna {columna}: {valores_unicos}\")"
   ]
  },
  {
   "cell_type": "code",
   "execution_count": 29,
   "metadata": {},
   "outputs": [
    {
     "data": {
      "text/plain": [
       "array([52, 43, 50, 22, 44, 46, 28, 36, 35, 30, 39, 74, 59, 40, 62, 49, 34,\n",
       "       41, 26, 71, 21, 16, 63, 42, 54, 53, 64, 33, 47, 32, 31, 65, 25, 70,\n",
       "       27, 60, 56, 51, 78, 38, 24, 37, 20, 29, 18, 69, 23, 58, 48, 55, 68,\n",
       "       66, 61, 19, 57, 45, 67, 72, 73, 17, 79, 77, 75, 80, 76, 81, 83, 86,\n",
       "       15])"
      ]
     },
     "execution_count": 29,
     "metadata": {},
     "output_type": "execute_result"
    }
   ],
   "source": [
    "data2['edad'].unique()"
   ]
  },
  {
   "cell_type": "code",
   "execution_count": 30,
   "metadata": {},
   "outputs": [
    {
     "data": {
      "text/plain": [
       "<Axes: >"
      ]
     },
     "execution_count": 30,
     "metadata": {},
     "output_type": "execute_result"
    },
    {
     "data": {
      "image/png": "[encoded data removed]",
      "text/plain": [
       "<Figure size 640x480 with 1 Axes>"
      ]
     },
     "metadata": {},
     "output_type": "display_data"
    }
   ],
   "source": [
    "data2['edad'].hist()"
   ]
  },
  {
   "cell_type": "code",
   "execution_count": 31,
   "metadata": {},
   "outputs": [
    {
     "data": {
      "text/plain": [
       "<Axes: >"
      ]
     },
     "execution_count": 31,
     "metadata": {},
     "output_type": "execute_result"
    },
    {
     "data": {
      "image/png": "[encoded data removed]",
      "text/plain": [
       "<Figure size 640x480 with 1 Axes>"
      ]
     },
     "metadata": {},
     "output_type": "display_data"
    }
   ],
   "source": [
    "data2['ingreso'].hist()"
   ]
  },
  {
   "cell_type": "code",
   "execution_count": 32,
   "metadata": {},
   "outputs": [
    {
     "data": {
      "text/plain": [
       "array([   100,    200,    300,    400,    450,    500,    600,    700,\n",
       "          720,    800,    843,    900,   1000,   1200,   1400,   1440,\n",
       "         1500,   1600,   1700,   1800,   1920,   2000,   2400,   2500,\n",
       "         2600,   2700,   2800,   3000,   3200,   3500,   3600,   3800,\n",
       "         4000,   4200,   4320,   4500,   4800,   5000,   5500,   5600,\n",
       "         6000,   6400,   6500,   6900,   7000,   7100,   7200,   7500,\n",
       "         7800,   8000,   8300,   8400,   8500,   8600,   9000,   9500,\n",
       "         9600,   9800,  10000,  10500,  10900,  11000,  11200,  11500,\n",
       "        12000,  12500,  12600,  12800,  13000,  13500,  14000,  14400,\n",
       "        15000,  15100,  15400,  15800,  16000,  16500,  17000,  17500,\n",
       "        18000,  18500,  19000,  20000,  21000,  21600,  22000,  23000,\n",
       "        24000,  25000,  26000,  26900,  27000,  28000,  29000,  30000,\n",
       "        32000,  35000,  36000,  38000,  40000,  45000,  50000,  56000,\n",
       "        60000,  65000,  70000,  80000,  90000, 100000, 158000])"
      ]
     },
     "execution_count": 32,
     "metadata": {},
     "output_type": "execute_result"
    }
   ],
   "source": [
    "data2['ingreso'].sort_values().unique()"
   ]
  },
  {
   "cell_type": "code",
   "execution_count": 33,
   "metadata": {},
   "outputs": [
    {
     "name": "stdout",
     "output_type": "stream",
     "text": [
      "606\n"
     ]
    }
   ],
   "source": [
    "p75 = data2['ingreso'].quantile(0.75)\n",
    "\n",
    "# Create a boolean mask where each element is True if the corresponding value in 'ingreso' is greater than the 75th percentile\n",
    "mask = data2['ingreso'] > p75\n",
    "\n",
    "# Count the number of True values in the mask\n",
    "count = mask.sum()\n",
    "\n",
    "print(count)"
   ]
  },
  {
   "cell_type": "code",
   "execution_count": 34,
   "metadata": {},
   "outputs": [
    {
     "name": "stdout",
     "output_type": "stream",
     "text": [
      "246\n"
     ]
    }
   ],
   "source": [
    "# Calculate the 90th percentile of the 'ingreso' column\n",
    "p90 = data2['ingreso'].quantile(0.9)\n",
    "\n",
    "# Create a boolean mask where each element is True if the corresponding value in 'ingreso' is greater than the 90th percentile\n",
    "mask = data2['ingreso'] > p90\n",
    "\n",
    "# Count the number of True values in the mask\n",
    "count = mask.sum()\n",
    "\n",
    "print(count)"
   ]
  },
  {
   "cell_type": "markdown",
   "metadata": {},
   "source": [
    "#### The outliers are not outliers at all for me, is the real life, and we don't hace enough data to drop them, we need them, they have the money!!"
   ]
  },
  {
   "cell_type": "markdown",
   "metadata": {},
   "source": [
    "\n",
    "# 3. Save dataFrame"
   ]
  },
  {
   "cell_type": "code",
   "execution_count": 35,
   "metadata": {},
   "outputs": [],
   "source": [
    "filename = \"data.csv\"\n",
    "data2.to_csv(filename, index = False)"
   ]
  },
  {
   "cell_type": "markdown",
   "metadata": {},
   "source": [
    "# 4. Lazy Gradio"
   ]
  },
  {
   "cell_type": "code",
   "execution_count": 36,
   "metadata": {},
   "outputs": [],
   "source": [
    "data3 = data3.drop('ingreso', axis=1)"
   ]
  },
  {
   "cell_type": "code",
   "execution_count": 37,
   "metadata": {},
   "outputs": [
    {
     "name": "stdout",
     "output_type": "stream",
     "text": [
      "\"edad\",\n",
      "\"sexo\",\n",
      "\"alfabeto\",\n",
      "\"sistema_salud\",\n",
      "\"nivel_educativo\",\n",
      "\"ocupacion_jerarquia\"\n"
     ]
    }
   ],
   "source": [
    "# Params Name\n",
    "\n",
    "columnas = list(data3.columns)\n",
    "nombres_columnas = ',\\n'.join(['\"' + columna + '\"' for columna in columnas])\n",
    "print(nombres_columnas)"
   ]
  },
  {
   "cell_type": "code",
   "execution_count": 38,
   "metadata": {},
   "outputs": [
    {
     "name": "stdout",
     "output_type": "stream",
     "text": [
      "edad,\n",
      "sexo,\n",
      "alfabeto,\n",
      "sistema_salud,\n",
      "nivel_educativo,\n",
      "ocupacion_jerarquia,\n"
     ]
    }
   ],
   "source": [
    "columnas = list(data3.columns)\n",
    "nombres_columnas = ',\\n'.join([columna for columna in columnas])\n",
    "nombres_columnas = nombres_columnas.rstrip() + ','\n",
    "print(nombres_columnas)"
   ]
  },
  {
   "cell_type": "code",
   "execution_count": 39,
   "metadata": {},
   "outputs": [
    {
     "name": "stdout",
     "output_type": "stream",
     "text": [
      "edad = gr.Slider(\n",
      "    label='Edad',\n",
      "    minimum=15,\n",
      "    maximum=86,\n",
      "    step=1,\n",
      "    randomize=True\n",
      ")\n",
      "\n",
      "sexo = gr.Radio(\n",
      "    label='Sexo',\n",
      "    choices=['hombre', 'mujer'],\n",
      "    value='hombre',\n",
      ")\n",
      "\n",
      "alfabeto = gr.Radio(\n",
      "    label='Alfabeto',\n",
      "    choices=['Si', 'No'],\n",
      "    value='Si',\n",
      ")\n",
      "\n",
      "sistema_salud = gr.Dropdown(\n",
      "    label='Sistema_Salud',\n",
      "    choices=['No paga ni le descuentan', 'Obra social (incluye PAMI)', 'Obra social y mutual/prepaga/servicio de emergencia.', 'Mutual / Prepaga / Servicio de emergencia', 'Planes y seguros públicos', 'Ns./Nr.', 'Mutual/prepaga/servicio de emergencia/ Planes y Seguros Públicos'],\n",
      "    multiselect=False,\n",
      "    value='No paga ni le descuentan',\n",
      ")\n",
      "\n",
      "nivel_educativo = gr.Dropdown(\n",
      "    label='Nivel_Educativo',\n",
      "    choices=['Superior Universitaria Completa', 'Primaria Completa', 'Secundaria Incompleta', 'Secundaria Completa', 'Primaria Incompleta(incluye educación especial)', 'Superior Universitaria Incompleta', 'Sin instrucción'],\n",
      "    multiselect=False,\n",
      "    value='Secundaria Completa',\n",
      ")\n",
      "\n",
      "ocupacion_jerarquia = gr.Dropdown(\n",
      "    label='Ocupacion_Jerarquia',\n",
      "    choices=['Cuenta propia', 'Director', 'otro', 'Trabajador asalariado'],\n",
      "    multiselect=False,\n",
      "    value='Cuenta propia',\n",
      ")\n",
      "\n",
      "ingreso = gr.Slider(\n",
      "    label='Ingreso',\n",
      "    minimum=100,\n",
      "    maximum=158000,\n",
      "    step=1,\n",
      "    randomize=True\n",
      ")\n",
      "\n"
     ]
    }
   ],
   "source": [
    "# Labels\n",
    "\n",
    "import numpy as np\n",
    "columnas4 = data4.columns\n",
    "for columna in columnas4:\n",
    "\n",
    "\n",
    "    valor_mas_frecuente = data4[columna].value_counts().idxmax()\n",
    "    # Verifica el tipo de dato de la columna\n",
    "    if np.issubdtype(data4[columna].dtype, np.number):\n",
    "        if len(data4[columna].unique()) <= 5:\n",
    "            codigo_columna = f\"{columna} = gr.Radio(\\n\"\n",
    "            codigo_columna += f\"    label='{columna.title()}',\\n\"\n",
    "            codigo_columna += f\"    choices={data4[columna].unique().tolist()},\\n\"\n",
    "            codigo_columna += f\"    value={valor_mas_frecuente},\\n\"\n",
    "            codigo_columna += f\")\\n\"\n",
    "            print(codigo_columna)\n",
    "        else:\n",
    "            codigo_columna = f\"{columna} = gr.Slider(\\n\"\n",
    "            codigo_columna += f\"    label='{columna.title()}',\\n\"\n",
    "            codigo_columna += f\"    minimum={data4[columna].min()},\\n\"\n",
    "            codigo_columna += f\"    maximum={data4[columna].max()},\\n\"\n",
    "            codigo_columna += f\"    step=1,\\n\"\n",
    "            codigo_columna += f\"    randomize=True\\n\"\n",
    "            codigo_columna += f\")\\n\"\n",
    "            print(codigo_columna)\n",
    "    else:\n",
    "        # Verifica la cantidad de valores únicos en la columna\n",
    "        if len(data4[columna].unique()) <= 3:\n",
    "            codigo_columna = f\"{columna} = gr.Radio(\\n\"\n",
    "            codigo_columna += f\"    label='{columna.title()}',\\n\"\n",
    "            codigo_columna += f\"    choices={data4[columna].unique().tolist()},\\n\"\n",
    "            codigo_columna += f\"    value='{valor_mas_frecuente}',\\n\"\n",
    "            codigo_columna += f\")\\n\"\n",
    "            print(codigo_columna)\n",
    "        else:\n",
    "            codigo_columna = f\"{columna} = gr.Dropdown(\\n\"\n",
    "            codigo_columna += f\"    label='{columna.title()}',\\n\"\n",
    "            codigo_columna += f\"    choices={data4[columna].unique().tolist()},\\n\"\n",
    "            codigo_columna += f\"    multiselect=False,\\n\"\n",
    "            codigo_columna += f\"    value='{valor_mas_frecuente}',\\n\"\n",
    "            codigo_columna += f\")\\n\"\n",
    "            print(codigo_columna)"
   ]
  },
  {
   "cell_type": "markdown",
   "metadata": {},
   "source": [
    "# for FastAPI"
   ]
  },
  {
   "cell_type": "code",
   "execution_count": 82,
   "metadata": {},
   "outputs": [
    {
     "data": {
      "text/plain": [
       "edad                   : int\n",
       "sexo                   : str\n",
       "alfabeto               : str\n",
       "sistema_salud          : str\n",
       "nivel_educativo        : str\n",
       "ocupacion_jerarquia    : str\n",
       "dtype: object"
      ]
     },
     "execution_count": 82,
     "metadata": {},
     "output_type": "execute_result"
    }
   ],
   "source": [
    "dtypes = data3.dtypes.replace({'int64': ': int', 'object': ': str'})\n",
    "dtypes\n",
    "\n",
    "\n"
   ]
  },
  {
   "cell_type": "markdown",
   "metadata": {},
   "source": [
    "# for REQUEST"
   ]
  },
  {
   "cell_type": "code",
   "execution_count": 84,
   "metadata": {},
   "outputs": [
    {
     "data": {
      "text/plain": [
       "{'edad': 22,\n",
       " 'sexo': 'mujer',\n",
       " 'alfabeto': 'Si',\n",
       " 'sistema_salud': 'Obra social (incluye PAMI)',\n",
       " 'nivel_educativo': 'Secundaria Completa',\n",
       " 'ocupacion_jerarquia': 'Cuenta propia'}"
      ]
     },
     "execution_count": 84,
     "metadata": {},
     "output_type": "execute_result"
    }
   ],
   "source": [
    "caso1 = data3.iloc[3] \n",
    "caso1_json = caso1.to_dict()\n",
    "caso1_json"
   ]
  },
  {
   "cell_type": "code",
   "execution_count": 85,
   "metadata": {},
   "outputs": [
    {
     "data": {
      "text/plain": [
       "{'edad': 71,\n",
       " 'sexo': 'mujer',\n",
       " 'alfabeto': 'Si',\n",
       " 'sistema_salud': 'Obra social (incluye PAMI)',\n",
       " 'nivel_educativo': 'Primaria Incompleta(incluye educación especial)',\n",
       " 'ocupacion_jerarquia': 'Cuenta propia'}"
      ]
     },
     "execution_count": 85,
     "metadata": {},
     "output_type": "execute_result"
    }
   ],
   "source": [
    "caso1 = data3.iloc[27] \n",
    "caso1_json = caso1.to_dict()\n",
    "caso1_json"
   ]
  },
  {
   "cell_type": "code",
   "execution_count": 86,
   "metadata": {},
   "outputs": [
    {
     "data": {
      "text/plain": [
       "{'edad': 56,\n",
       " 'sexo': 'mujer',\n",
       " 'alfabeto': 'Si',\n",
       " 'sistema_salud': 'No paga ni le descuentan',\n",
       " 'nivel_educativo': 'Secundaria Incompleta',\n",
       " 'ocupacion_jerarquia': 'Cuenta propia'}"
      ]
     },
     "execution_count": 86,
     "metadata": {},
     "output_type": "execute_result"
    }
   ],
   "source": [
    "caso1 = data3.iloc[99] \n",
    "caso1_json = caso1.to_dict()\n",
    "caso1_json"
   ]
  },
  {
   "cell_type": "code",
   "execution_count": 87,
   "metadata": {},
   "outputs": [
    {
     "data": {
      "text/plain": [
       "{'edad': 36,\n",
       " 'sexo': 'hombre',\n",
       " 'alfabeto': 'Si',\n",
       " 'sistema_salud': 'Obra social (incluye PAMI)',\n",
       " 'nivel_educativo': 'Superior Universitaria Completa',\n",
       " 'ocupacion_jerarquia': 'Cuenta propia'}"
      ]
     },
     "execution_count": 87,
     "metadata": {},
     "output_type": "execute_result"
    }
   ],
   "source": [
    "caso1 = data3.iloc[144] \n",
    "caso1_json = caso1.to_dict()\n",
    "caso1_json"
   ]
  }
 ],
 "metadata": {
  "kernelspec": {
   "display_name": "env",
   "language": "python",
   "name": "python3"
  },
  "language_info": {
   "codemirror_mode": {
    "name": "ipython",
    "version": 3
   },
   "file_extension": ".py",
   "mimetype": "text/x-python",
   "name": "python",
   "nbconvert_exporter": "python",
   "pygments_lexer": "ipython3",
   "version": "3.10.12"
  },
  "orig_nbformat": 4
 },
 "nbformat": 4,
 "nbformat_minor": 2
}
